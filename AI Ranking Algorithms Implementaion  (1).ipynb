{
 "cells": [
  {
   "cell_type": "markdown",
   "id": "766a5324",
   "metadata": {},
   "source": [
    "## AI Ranking Algorithms Implementaion - BORDA, SMART, TOPSIS\n"
   ]
  },
  {
   "cell_type": "markdown",
   "id": "574f0827",
   "metadata": {},
   "source": [
    "## SMART & BORDA code written by me - © or1610 "
   ]
  },
  {
   "cell_type": "code",
   "execution_count": 1,
   "id": "a540f97d",
   "metadata": {},
   "outputs": [],
   "source": [
    "import pandas as pd"
   ]
  },
  {
   "cell_type": "markdown",
   "id": "031d73c1",
   "metadata": {},
   "source": [
    "## BORDA Algorithms Implementaion -  First Example "
   ]
  },
  {
   "cell_type": "code",
   "execution_count": 2,
   "id": "851be8fc",
   "metadata": {},
   "outputs": [
    {
     "data": {
      "text/html": [
       "<img src=\"example1ranking.jpg\" width=\"500\" height=\"500\"/>"
      ],
      "text/plain": [
       "<IPython.core.display.Image object>"
      ]
     },
     "execution_count": 2,
     "metadata": {},
     "output_type": "execute_result"
    }
   ],
   "source": [
    "# import image module\n",
    "from IPython.display import Image\n",
    "  \n",
    "# get the image\n",
    "Image(url = \"example1ranking.jpg\", width=500, height=500)"
   ]
  },
  {
   "cell_type": "code",
   "execution_count": 3,
   "id": "e1b85461",
   "metadata": {},
   "outputs": [
    {
     "name": "stdout",
     "output_type": "stream",
     "text": [
      "       Name  MOE1  MOE2  MOE3  MOE4  MOE5  MOE6  MOE7\n",
      "0  System A   1.9   2.4   1.2   6.4   5.3   3.2   5.1\n",
      "1  System B   2.6   2.6   1.2   7.1   5.2   4.2   6.1\n",
      "2  System C   1.8   3.4   1.7   7.3   6.1   6.1   8.5\n",
      "3  System D   2.4   3.5   1.6   7.3   5.9   6.4   8.3\n",
      "4  System E   2.2   2.9   1.5   7.3   5.4   4.5   6.3\n"
     ]
    }
   ],
   "source": [
    "data=[['System A',1.9, 2.4, 1.2 , 6.4 , 5.3, 3.2, 5.1],\n",
    "      ['System B',2.6, 2.6, 1.2 , 7.1 , 5.2, 4.2, 6.1],\n",
    "      ['System C',1.8, 3.4, 1.7 , 7.3 , 6.1, 6.1, 8.5],\n",
    "      ['System D',2.4, 3.5, 1.6 , 7.3 , 5.9, 6.4, 8.3],\n",
    "      ['System E',2.2, 2.9, 1.5 , 7.3 , 5.4, 4.5, 6.3] ]\n",
    "\n",
    "df2 = pd.DataFrame(data,columns=['Name','MOE1','MOE2','MOE3','MOE4','MOE5','MOE6','MOE7'])\n",
    "print(df2) "
   ]
  },
  {
   "cell_type": "code",
   "execution_count": 4,
   "id": "be74b7fa",
   "metadata": {},
   "outputs": [],
   "source": [
    "def BORDA_ex2(df): \n",
    "    # get the number of rows and columns\n",
    "    m = df.shape\n",
    "    rows = m[0]\n",
    "    columns = m[1]\n",
    "    # for each row\n",
    "    df1 = df.copy()\n",
    "    print(\"the original dataframe \\n\")\n",
    "    print(df, \" \\n\" )\n",
    "    #the positive parameters \n",
    "    df_p = df1.loc[ :: , ['MOE1','MOE2','MOE3','MOE4','MOE5','MOE6','MOE7']].rank(axis=0, method='average', numeric_only=True, ascending=False)\n",
    "    df_f = df_p \n",
    "    print(\"the initially first ranked: the best gets the higher score \\n\")\n",
    "    print(df_f, \" \\n\" )\n",
    "    rows, columns = df.shape\n",
    "    # initialize the score list\n",
    "    score = [0] * rows \n",
    "    # for each row\n",
    "    for i in range(rows):\n",
    "        # for each column\n",
    "        for j in range(columns-1):# editing value via N - number of rows \n",
    "            df_f.iloc[i, j] = abs(rows - df_f.iloc[i, j])\n",
    "    print(\"the second ranked: with sub of number of rows \\n\")\n",
    "    print(df_f, \" \\n\" )\n",
    "    #creating score column \n",
    "    for i in range(rows):\n",
    "        # for each column\n",
    "        for j in range(columns-1): # add the score\n",
    "            score[i] =  score[i] + df_f.iloc[i, j]\n",
    "    # return the score\n",
    "    # adding score column to the data frame \n",
    "    df_f['Score'] = score \n",
    "    print(\"the third ranked: with column of score of each rows \\n\")\n",
    "    print(df_f, \" \\n\" )\n",
    "    #adding the original names to the data frame \n",
    "    name_col = df.loc[:: , ['Name']]\n",
    "    print(\"the final table ranked with candidiates names \\n\")\n",
    "    df_f = pd.merge(df_f,name_col, left_index=True, right_index=True)\n",
    "    print(df_f, \" \\n\" )\n",
    "    return df_f"
   ]
  },
  {
   "cell_type": "code",
   "execution_count": 5,
   "id": "a1901fab",
   "metadata": {},
   "outputs": [
    {
     "name": "stdout",
     "output_type": "stream",
     "text": [
      "the original dataframe \n",
      "\n",
      "       Name  MOE1  MOE2  MOE3  MOE4  MOE5  MOE6  MOE7\n",
      "0  System A   1.9   2.4   1.2   6.4   5.3   3.2   5.1\n",
      "1  System B   2.6   2.6   1.2   7.1   5.2   4.2   6.1\n",
      "2  System C   1.8   3.4   1.7   7.3   6.1   6.1   8.5\n",
      "3  System D   2.4   3.5   1.6   7.3   5.9   6.4   8.3\n",
      "4  System E   2.2   2.9   1.5   7.3   5.4   4.5   6.3  \n",
      "\n",
      "the initially first ranked: the best gets the higher score \n",
      "\n",
      "   MOE1  MOE2  MOE3  MOE4  MOE5  MOE6  MOE7\n",
      "0   4.0   5.0   4.5   5.0   4.0   5.0   5.0\n",
      "1   1.0   4.0   4.5   4.0   5.0   4.0   4.0\n",
      "2   5.0   2.0   1.0   2.0   1.0   2.0   1.0\n",
      "3   2.0   1.0   2.0   2.0   2.0   1.0   2.0\n",
      "4   3.0   3.0   3.0   2.0   3.0   3.0   3.0  \n",
      "\n",
      "the second ranked: with sub of number of rows \n",
      "\n",
      "   MOE1  MOE2  MOE3  MOE4  MOE5  MOE6  MOE7\n",
      "0   1.0   0.0   0.5   0.0   1.0   0.0   0.0\n",
      "1   4.0   1.0   0.5   1.0   0.0   1.0   1.0\n",
      "2   0.0   3.0   4.0   3.0   4.0   3.0   4.0\n",
      "3   3.0   4.0   3.0   3.0   3.0   4.0   3.0\n",
      "4   2.0   2.0   2.0   3.0   2.0   2.0   2.0  \n",
      "\n",
      "the third ranked: with column of score of each rows \n",
      "\n",
      "   MOE1  MOE2  MOE3  MOE4  MOE5  MOE6  MOE7  Score\n",
      "0   1.0   0.0   0.5   0.0   1.0   0.0   0.0    2.5\n",
      "1   4.0   1.0   0.5   1.0   0.0   1.0   1.0    8.5\n",
      "2   0.0   3.0   4.0   3.0   4.0   3.0   4.0   21.0\n",
      "3   3.0   4.0   3.0   3.0   3.0   4.0   3.0   23.0\n",
      "4   2.0   2.0   2.0   3.0   2.0   2.0   2.0   15.0  \n",
      "\n",
      "the final table ranked with candidiates names \n",
      "\n",
      "   MOE1  MOE2  MOE3  MOE4  MOE5  MOE6  MOE7  Score      Name\n",
      "0   1.0   0.0   0.5   0.0   1.0   0.0   0.0    2.5  System A\n",
      "1   4.0   1.0   0.5   1.0   0.0   1.0   1.0    8.5  System B\n",
      "2   0.0   3.0   4.0   3.0   4.0   3.0   4.0   21.0  System C\n",
      "3   3.0   4.0   3.0   3.0   3.0   4.0   3.0   23.0  System D\n",
      "4   2.0   2.0   2.0   3.0   2.0   2.0   2.0   15.0  System E  \n",
      "\n"
     ]
    },
    {
     "data": {
      "text/html": [
       "<div>\n",
       "<style scoped>\n",
       "    .dataframe tbody tr th:only-of-type {\n",
       "        vertical-align: middle;\n",
       "    }\n",
       "\n",
       "    .dataframe tbody tr th {\n",
       "        vertical-align: top;\n",
       "    }\n",
       "\n",
       "    .dataframe thead th {\n",
       "        text-align: right;\n",
       "    }\n",
       "</style>\n",
       "<table border=\"1\" class=\"dataframe\">\n",
       "  <thead>\n",
       "    <tr style=\"text-align: right;\">\n",
       "      <th></th>\n",
       "      <th>MOE1</th>\n",
       "      <th>MOE2</th>\n",
       "      <th>MOE3</th>\n",
       "      <th>MOE4</th>\n",
       "      <th>MOE5</th>\n",
       "      <th>MOE6</th>\n",
       "      <th>MOE7</th>\n",
       "      <th>Score</th>\n",
       "      <th>Name</th>\n",
       "    </tr>\n",
       "  </thead>\n",
       "  <tbody>\n",
       "    <tr>\n",
       "      <th>0</th>\n",
       "      <td>1.0</td>\n",
       "      <td>0.0</td>\n",
       "      <td>0.5</td>\n",
       "      <td>0.0</td>\n",
       "      <td>1.0</td>\n",
       "      <td>0.0</td>\n",
       "      <td>0.0</td>\n",
       "      <td>2.5</td>\n",
       "      <td>System A</td>\n",
       "    </tr>\n",
       "    <tr>\n",
       "      <th>1</th>\n",
       "      <td>4.0</td>\n",
       "      <td>1.0</td>\n",
       "      <td>0.5</td>\n",
       "      <td>1.0</td>\n",
       "      <td>0.0</td>\n",
       "      <td>1.0</td>\n",
       "      <td>1.0</td>\n",
       "      <td>8.5</td>\n",
       "      <td>System B</td>\n",
       "    </tr>\n",
       "    <tr>\n",
       "      <th>2</th>\n",
       "      <td>0.0</td>\n",
       "      <td>3.0</td>\n",
       "      <td>4.0</td>\n",
       "      <td>3.0</td>\n",
       "      <td>4.0</td>\n",
       "      <td>3.0</td>\n",
       "      <td>4.0</td>\n",
       "      <td>21.0</td>\n",
       "      <td>System C</td>\n",
       "    </tr>\n",
       "    <tr>\n",
       "      <th>3</th>\n",
       "      <td>3.0</td>\n",
       "      <td>4.0</td>\n",
       "      <td>3.0</td>\n",
       "      <td>3.0</td>\n",
       "      <td>3.0</td>\n",
       "      <td>4.0</td>\n",
       "      <td>3.0</td>\n",
       "      <td>23.0</td>\n",
       "      <td>System D</td>\n",
       "    </tr>\n",
       "    <tr>\n",
       "      <th>4</th>\n",
       "      <td>2.0</td>\n",
       "      <td>2.0</td>\n",
       "      <td>2.0</td>\n",
       "      <td>3.0</td>\n",
       "      <td>2.0</td>\n",
       "      <td>2.0</td>\n",
       "      <td>2.0</td>\n",
       "      <td>15.0</td>\n",
       "      <td>System E</td>\n",
       "    </tr>\n",
       "  </tbody>\n",
       "</table>\n",
       "</div>"
      ],
      "text/plain": [
       "   MOE1  MOE2  MOE3  MOE4  MOE5  MOE6  MOE7  Score      Name\n",
       "0   1.0   0.0   0.5   0.0   1.0   0.0   0.0    2.5  System A\n",
       "1   4.0   1.0   0.5   1.0   0.0   1.0   1.0    8.5  System B\n",
       "2   0.0   3.0   4.0   3.0   4.0   3.0   4.0   21.0  System C\n",
       "3   3.0   4.0   3.0   3.0   3.0   4.0   3.0   23.0  System D\n",
       "4   2.0   2.0   2.0   3.0   2.0   2.0   2.0   15.0  System E"
      ]
     },
     "execution_count": 5,
     "metadata": {},
     "output_type": "execute_result"
    }
   ],
   "source": [
    "BORDA_ex2(df2) "
   ]
  },
  {
   "cell_type": "markdown",
   "id": "387b77c6",
   "metadata": {},
   "source": [
    "## BORDA Algorithms Implementaion -  Second Example "
   ]
  },
  {
   "cell_type": "code",
   "execution_count": 6,
   "id": "c0a4d608",
   "metadata": {},
   "outputs": [
    {
     "data": {
      "text/html": [
       "<img src=\"example2ranking.jpg\" width=\"300\" height=\"300\"/>"
      ],
      "text/plain": [
       "<IPython.core.display.Image object>"
      ]
     },
     "execution_count": 6,
     "metadata": {},
     "output_type": "execute_result"
    }
   ],
   "source": [
    "# import image module\n",
    "from IPython.display import Image\n",
    "  \n",
    "# get the image\n",
    "Image(url = \"example2ranking.jpg\", width=300, height=300)"
   ]
  },
  {
   "cell_type": "code",
   "execution_count": 7,
   "id": "8cc89de9",
   "metadata": {},
   "outputs": [
    {
     "name": "stdout",
     "output_type": "stream",
     "text": [
      "     Name  Style  Reliebilty  Fuel  Cost\n",
      "0   Honda      7           9     9     8\n",
      "1    Ford      8           7     8     7\n",
      "2   Mazda      9           6     8     9\n",
      "3  Subaro      6           7     8     6\n"
     ]
    }
   ],
   "source": [
    "\n",
    "data=[['Honda',7, 9, 9,8 ],['Ford',8,7,8,7],['Mazda',9,6,8,9],['Subaro',6,7,8,6]]\n",
    "\n",
    "df = pd.DataFrame(data,columns=['Name','Style','Reliebilty','Fuel','Cost'])\n",
    "\n",
    "# df.to_csv('file_name.csv') \n",
    "print(df) "
   ]
  },
  {
   "cell_type": "code",
   "execution_count": 8,
   "id": "41121a45",
   "metadata": {},
   "outputs": [],
   "source": [
    "def BORDA_ex1(df): \n",
    "    # get the number of rows and columns\n",
    "    m = df.shape\n",
    "    rows = m[0]\n",
    "    columns = m[1]\n",
    "    # for each row\n",
    "    df1 = df.copy()\n",
    "    print(\"the original dataframe \\n\")\n",
    "    print(df, \" \\n\" )\n",
    "    #the positive parameters - higher is the best! \n",
    "    df_p = df1.loc[ :: , ['Style','Reliebilty','Fuel']].rank(axis=0, method='average', numeric_only=True, ascending=False)\n",
    "    #the negative parameters  - upsite ranking, lowest is the best! \n",
    "    df_n = df1.loc[:: , ['Cost']].rank(axis=0, method='average', numeric_only=True, ascending=True) \n",
    "    df_f = pd.merge(df_p,df_n, left_index=True, right_index=True)\n",
    "    print(\"the initially first ranked: the best gets the higher score \\n\")\n",
    "    print(df_f, \" \\n\" )\n",
    "    rows, columns = df.shape\n",
    "    # initialize the score list\n",
    "    score = [0] * rows \n",
    "    # for each row\n",
    "    for i in range(rows):\n",
    "        # for each column\n",
    "        for j in range(columns-1):# editing value via N - number of rows \n",
    "            df_f.iloc[i, j] = abs(rows - df_f.iloc[i, j])\n",
    "    print(\"the second ranked: with sub of number of rows \\n\")\n",
    "    print(df_f, \" \\n\" )\n",
    "    #creating score column \n",
    "    for i in range(rows):\n",
    "        # for each column\n",
    "        for j in range(columns-1): # add the score\n",
    "            score[i] =  score[i] + df_f.iloc[i, j]\n",
    "    # return the score\n",
    "    # adding score column to the data frame \n",
    "    df_f['Score'] = score \n",
    "    print(\"the third ranked: with column of score of each rows \\n\")\n",
    "    print(df_f, \" \\n\" )\n",
    "    #adding the original names to the data frame \n",
    "    name_col = df.loc[:: , ['Name']]\n",
    "    print(\"the final table ranked with candidiates names \\n\")\n",
    "    df_f = pd.merge(df_f,name_col, left_index=True, right_index=True)\n",
    "    print(df_f, \" \\n\" )\n",
    "    return df_f  "
   ]
  },
  {
   "cell_type": "code",
   "execution_count": 9,
   "id": "e43ce263",
   "metadata": {},
   "outputs": [
    {
     "name": "stdout",
     "output_type": "stream",
     "text": [
      "the original dataframe \n",
      "\n",
      "     Name  Style  Reliebilty  Fuel  Cost\n",
      "0   Honda      7           9     9     8\n",
      "1    Ford      8           7     8     7\n",
      "2   Mazda      9           6     8     9\n",
      "3  Subaro      6           7     8     6  \n",
      "\n",
      "the initially first ranked: the best gets the higher score \n",
      "\n",
      "   Style  Reliebilty  Fuel  Cost\n",
      "0    3.0         1.0   1.0   3.0\n",
      "1    2.0         2.5   3.0   2.0\n",
      "2    1.0         4.0   3.0   4.0\n",
      "3    4.0         2.5   3.0   1.0  \n",
      "\n",
      "the second ranked: with sub of number of rows \n",
      "\n",
      "   Style  Reliebilty  Fuel  Cost\n",
      "0    1.0         3.0   3.0   1.0\n",
      "1    2.0         1.5   1.0   2.0\n",
      "2    3.0         0.0   1.0   0.0\n",
      "3    0.0         1.5   1.0   3.0  \n",
      "\n",
      "the third ranked: with column of score of each rows \n",
      "\n",
      "   Style  Reliebilty  Fuel  Cost  Score\n",
      "0    1.0         3.0   3.0   1.0    8.0\n",
      "1    2.0         1.5   1.0   2.0    6.5\n",
      "2    3.0         0.0   1.0   0.0    4.0\n",
      "3    0.0         1.5   1.0   3.0    5.5  \n",
      "\n",
      "the final table ranked with candidiates names \n",
      "\n",
      "   Style  Reliebilty  Fuel  Cost  Score    Name\n",
      "0    1.0         3.0   3.0   1.0    8.0   Honda\n",
      "1    2.0         1.5   1.0   2.0    6.5    Ford\n",
      "2    3.0         0.0   1.0   0.0    4.0   Mazda\n",
      "3    0.0         1.5   1.0   3.0    5.5  Subaro  \n",
      "\n"
     ]
    },
    {
     "data": {
      "text/html": [
       "<div>\n",
       "<style scoped>\n",
       "    .dataframe tbody tr th:only-of-type {\n",
       "        vertical-align: middle;\n",
       "    }\n",
       "\n",
       "    .dataframe tbody tr th {\n",
       "        vertical-align: top;\n",
       "    }\n",
       "\n",
       "    .dataframe thead th {\n",
       "        text-align: right;\n",
       "    }\n",
       "</style>\n",
       "<table border=\"1\" class=\"dataframe\">\n",
       "  <thead>\n",
       "    <tr style=\"text-align: right;\">\n",
       "      <th></th>\n",
       "      <th>Style</th>\n",
       "      <th>Reliebilty</th>\n",
       "      <th>Fuel</th>\n",
       "      <th>Cost</th>\n",
       "      <th>Score</th>\n",
       "      <th>Name</th>\n",
       "    </tr>\n",
       "  </thead>\n",
       "  <tbody>\n",
       "    <tr>\n",
       "      <th>0</th>\n",
       "      <td>1.0</td>\n",
       "      <td>3.0</td>\n",
       "      <td>3.0</td>\n",
       "      <td>1.0</td>\n",
       "      <td>8.0</td>\n",
       "      <td>Honda</td>\n",
       "    </tr>\n",
       "    <tr>\n",
       "      <th>1</th>\n",
       "      <td>2.0</td>\n",
       "      <td>1.5</td>\n",
       "      <td>1.0</td>\n",
       "      <td>2.0</td>\n",
       "      <td>6.5</td>\n",
       "      <td>Ford</td>\n",
       "    </tr>\n",
       "    <tr>\n",
       "      <th>2</th>\n",
       "      <td>3.0</td>\n",
       "      <td>0.0</td>\n",
       "      <td>1.0</td>\n",
       "      <td>0.0</td>\n",
       "      <td>4.0</td>\n",
       "      <td>Mazda</td>\n",
       "    </tr>\n",
       "    <tr>\n",
       "      <th>3</th>\n",
       "      <td>0.0</td>\n",
       "      <td>1.5</td>\n",
       "      <td>1.0</td>\n",
       "      <td>3.0</td>\n",
       "      <td>5.5</td>\n",
       "      <td>Subaro</td>\n",
       "    </tr>\n",
       "  </tbody>\n",
       "</table>\n",
       "</div>"
      ],
      "text/plain": [
       "   Style  Reliebilty  Fuel  Cost  Score    Name\n",
       "0    1.0         3.0   3.0   1.0    8.0   Honda\n",
       "1    2.0         1.5   1.0   2.0    6.5    Ford\n",
       "2    3.0         0.0   1.0   0.0    4.0   Mazda\n",
       "3    0.0         1.5   1.0   3.0    5.5  Subaro"
      ]
     },
     "execution_count": 9,
     "metadata": {},
     "output_type": "execute_result"
    }
   ],
   "source": [
    "BORDA_ex1(df) "
   ]
  },
  {
   "cell_type": "markdown",
   "id": "e8c719d4",
   "metadata": {},
   "source": [
    "## SMART Algorithm Implementation & Example"
   ]
  },
  {
   "cell_type": "code",
   "execution_count": 10,
   "id": "74fdab40",
   "metadata": {},
   "outputs": [
    {
     "data": {
      "text/html": [
       "<img src=\"example2ranking.jpg\" width=\"300\" height=\"300\"/>"
      ],
      "text/plain": [
       "<IPython.core.display.Image object>"
      ]
     },
     "execution_count": 10,
     "metadata": {},
     "output_type": "execute_result"
    }
   ],
   "source": [
    "# import image module\n",
    "from IPython.display import Image\n",
    "  \n",
    "# get the image\n",
    "Image(url = \"example2ranking.jpg\", width=300, height=300)"
   ]
  },
  {
   "cell_type": "code",
   "execution_count": 11,
   "id": "7168688d",
   "metadata": {},
   "outputs": [
    {
     "data": {
      "text/html": [
       "<img src=\"smart_algo.jpg\" width=\"500\" height=\"500\"/>"
      ],
      "text/plain": [
       "<IPython.core.display.Image object>"
      ]
     },
     "execution_count": 11,
     "metadata": {},
     "output_type": "execute_result"
    }
   ],
   "source": [
    "# import image module\n",
    "from IPython.display import Image\n",
    "  \n",
    "# get the image\n",
    "Image(url = \"smart_algo.jpg\", width=500, height=500)"
   ]
  },
  {
   "cell_type": "code",
   "execution_count": 12,
   "id": "ffdc1431",
   "metadata": {},
   "outputs": [
    {
     "data": {
      "text/html": [
       "<div>\n",
       "<style scoped>\n",
       "    .dataframe tbody tr th:only-of-type {\n",
       "        vertical-align: middle;\n",
       "    }\n",
       "\n",
       "    .dataframe tbody tr th {\n",
       "        vertical-align: top;\n",
       "    }\n",
       "\n",
       "    .dataframe thead th {\n",
       "        text-align: right;\n",
       "    }\n",
       "</style>\n",
       "<table border=\"1\" class=\"dataframe\">\n",
       "  <thead>\n",
       "    <tr style=\"text-align: right;\">\n",
       "      <th></th>\n",
       "      <th>Name</th>\n",
       "      <th>Style</th>\n",
       "      <th>Reliebilty</th>\n",
       "      <th>Fuel</th>\n",
       "      <th>Cost</th>\n",
       "    </tr>\n",
       "  </thead>\n",
       "  <tbody>\n",
       "    <tr>\n",
       "      <th>0</th>\n",
       "      <td>Honda</td>\n",
       "      <td>7</td>\n",
       "      <td>9</td>\n",
       "      <td>9</td>\n",
       "      <td>8</td>\n",
       "    </tr>\n",
       "    <tr>\n",
       "      <th>1</th>\n",
       "      <td>Ford</td>\n",
       "      <td>8</td>\n",
       "      <td>7</td>\n",
       "      <td>8</td>\n",
       "      <td>7</td>\n",
       "    </tr>\n",
       "    <tr>\n",
       "      <th>2</th>\n",
       "      <td>Mazda</td>\n",
       "      <td>9</td>\n",
       "      <td>6</td>\n",
       "      <td>8</td>\n",
       "      <td>9</td>\n",
       "    </tr>\n",
       "    <tr>\n",
       "      <th>3</th>\n",
       "      <td>Subaro</td>\n",
       "      <td>6</td>\n",
       "      <td>7</td>\n",
       "      <td>8</td>\n",
       "      <td>6</td>\n",
       "    </tr>\n",
       "  </tbody>\n",
       "</table>\n",
       "</div>"
      ],
      "text/plain": [
       "     Name  Style  Reliebilty  Fuel  Cost\n",
       "0   Honda      7           9     9     8\n",
       "1    Ford      8           7     8     7\n",
       "2   Mazda      9           6     8     9\n",
       "3  Subaro      6           7     8     6"
      ]
     },
     "execution_count": 12,
     "metadata": {},
     "output_type": "execute_result"
    }
   ],
   "source": [
    "df "
   ]
  },
  {
   "cell_type": "code",
   "execution_count": 13,
   "id": "e6d9f785",
   "metadata": {},
   "outputs": [
    {
     "name": "stdout",
     "output_type": "stream",
     "text": [
      "[2.5, 9.2, 6.9, 4.200000000000001] \n",
      "\n",
      "   Style  Reliebilty  Fuel  Cost    Name  SmartScore\n",
      "0      7           9     9     8   Honda         2.5\n",
      "1      8           7     8     7    Ford         9.2\n",
      "2      9           6     8     9   Mazda         6.9\n",
      "3      6           7     8     6  Subaro         4.2\n"
     ]
    }
   ],
   "source": [
    "w = [0.1,0.4,0.3,0.2]\n",
    "# sum of wi is 1 \n",
    "T = [0,0,0,0]\n",
    "name_col = df.loc[ :: , ['Name']]\n",
    "df_smart = df.loc[ :: , ['Style','Reliebilty','Fuel','Cost']]\n",
    "rows, columns = df_smart.shape\n",
    "for i in range(rows): \n",
    "    for j in range(columns-1): \n",
    "        T[i] = T[i] + w[i]*df_smart.iloc[i, j]\n",
    "print(T ,\"\\n\")\n",
    "df_smart = pd.merge(df_smart ,name_col, left_index=True, right_index=True)\n",
    "df_smart['SmartScore'] = T \n",
    "print(df_smart)"
   ]
  },
  {
   "cell_type": "markdown",
   "id": "0f282065",
   "metadata": {},
   "source": [
    "## TOPSIS Algotithm Implementation "
   ]
  },
  {
   "cell_type": "markdown",
   "id": "989e15b7",
   "metadata": {},
   "source": [
    "### Credit https://github.com/Tewatia5355/Topsis_tewatia/blob/master/Topsis_Tewatia/topsis.py"
   ]
  },
  {
   "cell_type": "code",
   "execution_count": 14,
   "id": "c3e010e5",
   "metadata": {},
   "outputs": [
    {
     "name": "stdout",
     "output_type": "stream",
     "text": [
      "   Style  Reliebilty  Fuel  Cost\n",
      "0      7           9     9     8\n",
      "1      8           7     8     7\n",
      "2      9           6     8     9\n",
      "3      6           7     8     6\n"
     ]
    }
   ],
   "source": [
    "dataset = df.loc[ :: , ['Style','Reliebilty','Fuel','Cost']]\n",
    "# temp_dataset = dataset \n",
    "nRow, nCol = dataset.shape \n",
    "weights = [0.1,0.4,0.3,0.2] \n",
    "impact = [ \"+\", \"+\", \"+\" ,\"-\"]\n",
    "print(dataset) "
   ]
  },
  {
   "cell_type": "code",
   "execution_count": 15,
   "id": "819f789b",
   "metadata": {},
   "outputs": [
    {
     "name": "stdout",
     "output_type": "stream",
     "text": [
      "ERROR : NUMBER OF PARAMETERS\n",
      "USAGE : python topsis.py inputfile.csv '1,1,1,1' '+,+,-,+' result.csv \n"
     ]
    }
   ],
   "source": [
    "import pandas as pd\n",
    "import os\n",
    "import sys\n",
    "\n",
    "# name = \"Topsis_Tewatia/Topsis_Tewatia\"\n",
    "# __version__ = \"1.0.4\"\n",
    "# __author__ = 'Yash Kumar Tewatia'\n",
    "# __credits__ = 'Thapar Institute of Engineering and Technology'\n",
    "\n",
    "\n",
    "def main():\n",
    "    # Arguments not equal to 5\n",
    "    # print(\"Checking for Errors...\\n\")\n",
    "    if len(sys.argv) != 5:\n",
    "        print(\"ERROR : NUMBER OF PARAMETERS\")\n",
    "        print(\"USAGE : python topsis.py inputfile.csv '1,1,1,1' '+,+,-,+' result.csv \")\n",
    "        exit(1)\n",
    "\n",
    "    # File Not Found error\n",
    "    elif not os.path.isfile(sys.argv[1]):\n",
    "        print(f\"ERROR : {sys.argv[1]} Don't exist!!\")\n",
    "        exit(1)\n",
    "\n",
    "    # File extension not csv\n",
    "    elif \".csv\" != (os.path.splitext(sys.argv[1]))[1]:\n",
    "        print(f\"ERROR : {sys.argv[1]} is not csv!!\")\n",
    "        exit(1)\n",
    "\n",
    "    else:\n",
    "        dataset, temp_dataset = pd.read_csv(\n",
    "            sys.argv[1]), pd.read_csv(sys.argv[1])\n",
    "        nCol = len(temp_dataset.columns.values)\n",
    "\n",
    "        # less then 3 columns in input dataset\n",
    "        if nCol < 3:\n",
    "            print(\"ERROR : Input file have less then 3 columns\")\n",
    "            exit(1)\n",
    "\n",
    "        # Handeling non-numeric value\n",
    "        for i in range(1, nCol):\n",
    "            pd.to_numeric(dataset.iloc[:, i], errors='coerce')\n",
    "            dataset.iloc[:, i].fillna(\n",
    "                (dataset.iloc[:, i].mean()), inplace=True)\n",
    "\n",
    "        # Handling errors of weighted and impact arrays\n",
    "        try:\n",
    "            weights = [int(i) for i in sys.argv[2].split(',')]\n",
    "        except:\n",
    "            print(\"ERROR : In weights array please check again\")\n",
    "            exit(1)\n",
    "        impact = sys.argv[3].split(',')\n",
    "        for i in impact:\n",
    "            if not (i == '+' or i == '-'):\n",
    "                print(\"ERROR : In impact array please check again\")\n",
    "                exit(1)\n",
    "\n",
    "        # Checking number of column,weights and impacts is same or not\n",
    "        if nCol != len(weights)+1 or nCol != len(impact)+1:\n",
    "            print(\n",
    "                \"ERROR : Number of weights, number of impacts and number of columns not same\")\n",
    "            exit(1)\n",
    "\n",
    "        if (\".csv\" != (os.path.splitext(sys.argv[4]))[1]):\n",
    "            print(\"ERROR : Output file extension is wrong\")\n",
    "            exit(1)\n",
    "        if os.path.isfile(sys.argv[4]):\n",
    "            os.remove(sys.argv[4])\n",
    "        # print(\" No error found\\n\\n Applying Topsis Algorithm...\\n\")\n",
    "        topsis_pipy(temp_dataset, dataset, nCol, weights, impact)\n",
    "\n",
    "\n",
    "def Normalize(temp_dataset, nCol, weights):\n",
    "    # normalizing the array\n",
    "    # print(\" Normalizing the DataSet...\\n\")\n",
    "    for i in range(1, nCol):\n",
    "        temp = 0\n",
    "        for j in range(len(temp_dataset)):\n",
    "            temp = temp + temp_dataset.iloc[j, i]**2\n",
    "        temp = temp**0.5\n",
    "        for j in range(len(temp_dataset)):\n",
    "            temp_dataset.iat[j, i] = (\n",
    "                temp_dataset.iloc[j, i] / temp)*weights[i-1]\n",
    "    return temp_dataset\n",
    "\n",
    "\n",
    "def Calc_Values(temp_dataset, nCol, impact):\n",
    "    # print(\" Calculating Positive and Negative values...\\n\")\n",
    "    p_sln = (temp_dataset.max().values)[1:]\n",
    "    n_sln = (temp_dataset.min().values)[1:]\n",
    "    for i in range(1, nCol):\n",
    "        if impact[i-1] == '-':\n",
    "            p_sln[i-1], n_sln[i-1] = n_sln[i-1], p_sln[i-1]\n",
    "    return p_sln, n_sln\n",
    "\n",
    "\n",
    "def topsis_pipy(temp_dataset, dataset, nCol, weights, impact):\n",
    "    # normalizing the array\n",
    "    temp_dataset = Normalize(temp_dataset, nCol, weights)\n",
    "\n",
    "    # Calculating positive and negative values\n",
    "    p_sln, n_sln = Calc_Values(temp_dataset, nCol, impact)\n",
    "\n",
    "    # calculating topsis score\n",
    "    # print(\" Generating Score and Rank...\\n\")\n",
    "    score = []\n",
    "    for i in range(len(temp_dataset)):\n",
    "        temp_p, temp_n = 0, 0\n",
    "        for j in range(1, nCol):\n",
    "            temp_p = temp_p + (p_sln[j-1] - temp_dataset.iloc[i, j])**2\n",
    "            temp_n = temp_n + (n_sln[j-1] - temp_dataset.iloc[i, j])**2\n",
    "        temp_p, temp_n = temp_p**0.5, temp_n**0.5\n",
    "        score.append(temp_n/(temp_p + temp_n))\n",
    "    dataset['Topsis Score'] = score\n",
    "\n",
    "    # calculating the rank according to topsis score\n",
    "    dataset['Rank'] = (dataset['Topsis Score'].rank(\n",
    "        method='max', ascending=False))\n",
    "    dataset = dataset.astype({\"Rank\": int})\n",
    "    print(dataset)\n",
    "\n",
    "    # Writing the csv\n",
    "    # print(\" Writing Result to CSV...\\n\")\n",
    "#     dataset.to_csv(sys.argv[4], index=False)\n",
    "    # print(\" Successfully Terminated\")\n",
    "\n",
    "\n",
    "if __name__ == \"__main__\":\n",
    "    main()"
   ]
  },
  {
   "cell_type": "code",
   "execution_count": 16,
   "id": "181d2921",
   "metadata": {},
   "outputs": [
    {
     "name": "stdout",
     "output_type": "stream",
     "text": [
      "     Name  Style  Reliebilty  Fuel  Cost\n",
      "0   Honda      7           9     9     8\n",
      "1    Ford      8           7     8     7\n",
      "2   Mazda      9           6     8     9\n",
      "3  Subaro      6           7     8     6\n"
     ]
    },
    {
     "data": {
      "text/plain": [
       "(4, 5)"
      ]
     },
     "execution_count": 16,
     "metadata": {},
     "output_type": "execute_result"
    }
   ],
   "source": [
    "data=[['Honda',7, 9, 9,8 ],['Ford',8,7,8,7],['Mazda',9,6,8,9],['Subaro',6,7,8,6]]\n",
    "\n",
    "df = pd.DataFrame(data,columns=['Name','Style','Reliebilty','Fuel','Cost'])\n",
    "\n",
    "# df.to_csv('file_name.csv') \n",
    "print(df) \n",
    "df.shape"
   ]
  },
  {
   "cell_type": "code",
   "execution_count": 17,
   "id": "b4cfaacb",
   "metadata": {},
   "outputs": [
    {
     "name": "stdout",
     "output_type": "stream",
     "text": [
      "(4, 5)\n"
     ]
    },
    {
     "data": {
      "text/html": [
       "<div>\n",
       "<style scoped>\n",
       "    .dataframe tbody tr th:only-of-type {\n",
       "        vertical-align: middle;\n",
       "    }\n",
       "\n",
       "    .dataframe tbody tr th {\n",
       "        vertical-align: top;\n",
       "    }\n",
       "\n",
       "    .dataframe thead th {\n",
       "        text-align: right;\n",
       "    }\n",
       "</style>\n",
       "<table border=\"1\" class=\"dataframe\">\n",
       "  <thead>\n",
       "    <tr style=\"text-align: right;\">\n",
       "      <th></th>\n",
       "      <th>Name</th>\n",
       "      <th>Style</th>\n",
       "      <th>Reliebilty</th>\n",
       "      <th>Fuel</th>\n",
       "      <th>Cost</th>\n",
       "    </tr>\n",
       "  </thead>\n",
       "  <tbody>\n",
       "    <tr>\n",
       "      <th>0</th>\n",
       "      <td>Honda</td>\n",
       "      <td>7</td>\n",
       "      <td>9</td>\n",
       "      <td>9</td>\n",
       "      <td>8</td>\n",
       "    </tr>\n",
       "    <tr>\n",
       "      <th>1</th>\n",
       "      <td>Ford</td>\n",
       "      <td>8</td>\n",
       "      <td>7</td>\n",
       "      <td>8</td>\n",
       "      <td>7</td>\n",
       "    </tr>\n",
       "    <tr>\n",
       "      <th>2</th>\n",
       "      <td>Mazda</td>\n",
       "      <td>9</td>\n",
       "      <td>6</td>\n",
       "      <td>8</td>\n",
       "      <td>9</td>\n",
       "    </tr>\n",
       "    <tr>\n",
       "      <th>3</th>\n",
       "      <td>Subaro</td>\n",
       "      <td>6</td>\n",
       "      <td>7</td>\n",
       "      <td>8</td>\n",
       "      <td>6</td>\n",
       "    </tr>\n",
       "  </tbody>\n",
       "</table>\n",
       "</div>"
      ],
      "text/plain": [
       "     Name  Style  Reliebilty  Fuel  Cost\n",
       "0   Honda      7           9     9     8\n",
       "1    Ford      8           7     8     7\n",
       "2   Mazda      9           6     8     9\n",
       "3  Subaro      6           7     8     6"
      ]
     },
     "execution_count": 17,
     "metadata": {},
     "output_type": "execute_result"
    }
   ],
   "source": [
    "dataset = df.copy()\n",
    "# temp_dataset = dataset \n",
    "nRow1, nCol1 = dataset.shape\n",
    "weights = [0.1,0.4,0.3,0.2] \n",
    "impact = [ \"+\", \"+\", \"+\" ,\"-\"]\n",
    "print(dataset.shape) \n",
    "dataset"
   ]
  },
  {
   "cell_type": "code",
   "execution_count": 18,
   "id": "9950248a",
   "metadata": {},
   "outputs": [
    {
     "name": "stdout",
     "output_type": "stream",
     "text": [
      "     Name     Style  Reliebilty      Fuel      Cost  Topsis Score  Rank\n",
      "0   Honda  0.046157    0.245518  0.163411  0.105501      0.742694     1\n",
      "1    Ford  0.052750    0.190958  0.145255  0.092313      0.403599     3\n",
      "2   Mazda  0.059344    0.163679  0.145255  0.118688      0.175870     4\n",
      "3  Subaro  0.039563    0.190958  0.145255  0.079126      0.441429     2\n"
     ]
    }
   ],
   "source": [
    "topsis_pipy(dataset, dataset, nCol1, weights, impact) "
   ]
  }
 ],
 "metadata": {
  "kernelspec": {
   "display_name": "Python 3 (ipykernel)",
   "language": "python",
   "name": "python3"
  },
  "language_info": {
   "codemirror_mode": {
    "name": "ipython",
    "version": 3
   },
   "file_extension": ".py",
   "mimetype": "text/x-python",
   "name": "python",
   "nbconvert_exporter": "python",
   "pygments_lexer": "ipython3",
   "version": "3.9.12"
  }
 },
 "nbformat": 4,
 "nbformat_minor": 5
}
